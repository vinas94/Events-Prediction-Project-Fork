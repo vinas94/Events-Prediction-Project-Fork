{
 "cells": [
  {
   "cell_type": "markdown",
   "metadata": {},
   "source": [
    "### Importing the Libraries"
   ]
  },
  {
   "cell_type": "code",
   "execution_count": 1,
   "metadata": {},
   "outputs": [],
   "source": [
    "import pandas as pd\n",
    "import os\n",
    "import sys\n",
    "sys.path.append(os.path.abspath(\"..\"))\n",
    "import utils\n",
    "from utils import helper_functions as utils"
   ]
  },
  {
   "cell_type": "code",
   "execution_count": 2,
   "metadata": {},
   "outputs": [],
   "source": [
    "# EDVIN'S COMMENT\n",
    "# 'from utils import helper_functions as utils' overwrites the earlier import\n",
    "# thus 'import utils' in redundant, can be safely removed\n",
    "# you can also choose any short name you like, for example\n",
    "# 'from utils import helper_functions as hf'\n",
    "\n",
    "import os\n",
    "import sys\n",
    "import pandas as pd\n",
    "\n",
    "sys.path.append(os.path.abspath('..'))\n",
    "from utils import helper_functions as hf"
   ]
  },
  {
   "cell_type": "markdown",
   "metadata": {},
   "source": [
    "### Uploading the Data"
   ]
  },
  {
   "cell_type": "code",
   "execution_count": 3,
   "metadata": {},
   "outputs": [],
   "source": [
    "filepath = '../data/events.csv' \n",
    "data = pd.read_csv(filepath) \n",
    "df = data.copy() "
   ]
  },
  {
   "cell_type": "code",
   "execution_count": 4,
   "metadata": {},
   "outputs": [
    {
     "data": {
      "text/html": [
       "<div>\n",
       "<style scoped>\n",
       "    .dataframe tbody tr th:only-of-type {\n",
       "        vertical-align: middle;\n",
       "    }\n",
       "\n",
       "    .dataframe tbody tr th {\n",
       "        vertical-align: top;\n",
       "    }\n",
       "\n",
       "    .dataframe thead th {\n",
       "        text-align: right;\n",
       "    }\n",
       "</style>\n",
       "<table border=\"1\" class=\"dataframe\">\n",
       "  <thead>\n",
       "    <tr style=\"text-align: right;\">\n",
       "      <th></th>\n",
       "      <th>event_time</th>\n",
       "      <th>event_type</th>\n",
       "      <th>product_id</th>\n",
       "      <th>category_id</th>\n",
       "      <th>category_code</th>\n",
       "      <th>brand</th>\n",
       "      <th>price</th>\n",
       "      <th>user_id</th>\n",
       "      <th>user_session</th>\n",
       "    </tr>\n",
       "  </thead>\n",
       "  <tbody>\n",
       "    <tr>\n",
       "      <th>0</th>\n",
       "      <td>2020-09-24 11:57:06 UTC</td>\n",
       "      <td>view</td>\n",
       "      <td>1996170</td>\n",
       "      <td>2144415922528452715</td>\n",
       "      <td>electronics.telephone</td>\n",
       "      <td>NaN</td>\n",
       "      <td>31.90</td>\n",
       "      <td>1515915625519388267</td>\n",
       "      <td>LJuJVLEjPT</td>\n",
       "    </tr>\n",
       "    <tr>\n",
       "      <th>1</th>\n",
       "      <td>2020-09-24 11:57:26 UTC</td>\n",
       "      <td>view</td>\n",
       "      <td>139905</td>\n",
       "      <td>2144415926932472027</td>\n",
       "      <td>computers.components.cooler</td>\n",
       "      <td>zalman</td>\n",
       "      <td>17.16</td>\n",
       "      <td>1515915625519380411</td>\n",
       "      <td>tdicluNnRY</td>\n",
       "    </tr>\n",
       "    <tr>\n",
       "      <th>2</th>\n",
       "      <td>2020-09-24 11:57:27 UTC</td>\n",
       "      <td>view</td>\n",
       "      <td>215454</td>\n",
       "      <td>2144415927158964449</td>\n",
       "      <td>NaN</td>\n",
       "      <td>NaN</td>\n",
       "      <td>9.81</td>\n",
       "      <td>1515915625513238515</td>\n",
       "      <td>4TMArHtXQy</td>\n",
       "    </tr>\n",
       "    <tr>\n",
       "      <th>3</th>\n",
       "      <td>2020-09-24 11:57:33 UTC</td>\n",
       "      <td>view</td>\n",
       "      <td>635807</td>\n",
       "      <td>2144415923107266682</td>\n",
       "      <td>computers.peripherals.printer</td>\n",
       "      <td>pantum</td>\n",
       "      <td>113.81</td>\n",
       "      <td>1515915625519014356</td>\n",
       "      <td>aGFYrNgC08</td>\n",
       "    </tr>\n",
       "    <tr>\n",
       "      <th>4</th>\n",
       "      <td>2020-09-24 11:57:36 UTC</td>\n",
       "      <td>view</td>\n",
       "      <td>3658723</td>\n",
       "      <td>2144415921169498184</td>\n",
       "      <td>NaN</td>\n",
       "      <td>cameronsino</td>\n",
       "      <td>15.87</td>\n",
       "      <td>1515915625510743344</td>\n",
       "      <td>aa4mmk0kwQ</td>\n",
       "    </tr>\n",
       "  </tbody>\n",
       "</table>\n",
       "</div>"
      ],
      "text/plain": [
       "                event_time event_type  product_id          category_id  \\\n",
       "0  2020-09-24 11:57:06 UTC       view     1996170  2144415922528452715   \n",
       "1  2020-09-24 11:57:26 UTC       view      139905  2144415926932472027   \n",
       "2  2020-09-24 11:57:27 UTC       view      215454  2144415927158964449   \n",
       "3  2020-09-24 11:57:33 UTC       view      635807  2144415923107266682   \n",
       "4  2020-09-24 11:57:36 UTC       view     3658723  2144415921169498184   \n",
       "\n",
       "                   category_code        brand   price              user_id  \\\n",
       "0          electronics.telephone          NaN   31.90  1515915625519388267   \n",
       "1    computers.components.cooler       zalman   17.16  1515915625519380411   \n",
       "2                            NaN          NaN    9.81  1515915625513238515   \n",
       "3  computers.peripherals.printer       pantum  113.81  1515915625519014356   \n",
       "4                            NaN  cameronsino   15.87  1515915625510743344   \n",
       "\n",
       "  user_session  \n",
       "0   LJuJVLEjPT  \n",
       "1   tdicluNnRY  \n",
       "2   4TMArHtXQy  \n",
       "3   aGFYrNgC08  \n",
       "4   aa4mmk0kwQ  "
      ]
     },
     "execution_count": 4,
     "metadata": {},
     "output_type": "execute_result"
    }
   ],
   "source": [
    "# EDVIN'S COMMENT\n",
    "# looks good!\n",
    "# a minor comment is that you don't have to create a copy of the dataframe\n",
    "# best only do that only if you need to keep the original import unmodified\n",
    "# which is sometimes indeed very useful! just be mindful if the dataframe is\n",
    "# very large, as it would take up double the memory\n",
    "# also, df.head() is very handy!\n",
    "# I personally like to always use it immediately after every dataframe import\n",
    "\n",
    "filepath = '../data/events.csv' \n",
    "df = pd.read_csv(filepath) \n",
    "df.head()"
   ]
  },
  {
   "cell_type": "markdown",
   "metadata": {},
   "source": [
    "Basic check on the what the data is and how it looks like"
   ]
  },
  {
   "cell_type": "code",
   "execution_count": 5,
   "metadata": {},
   "outputs": [
    {
     "name": "stdout",
     "output_type": "stream",
     "text": [
      "Data has 885129 rows and 9 columns with these data types:\n",
      "\n",
      "event_time        object\n",
      "event_type        object\n",
      "product_id         int64\n",
      "category_id        int64\n",
      "category_code     object\n",
      "brand             object\n",
      "price            float64\n",
      "user_id            int64\n",
      "user_session      object\n",
      "dtype: object\n",
      "\n",
      "Data row sample and full columns:\n"
     ]
    },
    {
     "data": {
      "text/html": [
       "<div>\n",
       "<style scoped>\n",
       "    .dataframe tbody tr th:only-of-type {\n",
       "        vertical-align: middle;\n",
       "    }\n",
       "\n",
       "    .dataframe tbody tr th {\n",
       "        vertical-align: top;\n",
       "    }\n",
       "\n",
       "    .dataframe thead th {\n",
       "        text-align: right;\n",
       "    }\n",
       "</style>\n",
       "<table border=\"1\" class=\"dataframe\">\n",
       "  <thead>\n",
       "    <tr style=\"text-align: right;\">\n",
       "      <th></th>\n",
       "      <th>event_time</th>\n",
       "      <th>event_type</th>\n",
       "      <th>product_id</th>\n",
       "      <th>category_id</th>\n",
       "      <th>category_code</th>\n",
       "      <th>brand</th>\n",
       "      <th>price</th>\n",
       "      <th>user_id</th>\n",
       "      <th>user_session</th>\n",
       "    </tr>\n",
       "  </thead>\n",
       "  <tbody>\n",
       "    <tr>\n",
       "      <th>683838</th>\n",
       "      <td>2021-01-26 10:03:10 UTC</td>\n",
       "      <td>view</td>\n",
       "      <td>4085921</td>\n",
       "      <td>2144415921588928594</td>\n",
       "      <td>auto.accessories.gps</td>\n",
       "      <td>navitel</td>\n",
       "      <td>75.29</td>\n",
       "      <td>1515915625597277123</td>\n",
       "      <td>UNHkdOS8vn</td>\n",
       "    </tr>\n",
       "    <tr>\n",
       "      <th>289517</th>\n",
       "      <td>2020-11-16 07:37:35 UTC</td>\n",
       "      <td>view</td>\n",
       "      <td>303809</td>\n",
       "      <td>2144415930816397635</td>\n",
       "      <td>NaN</td>\n",
       "      <td>kw-trio</td>\n",
       "      <td>121.10</td>\n",
       "      <td>1515915625539918957</td>\n",
       "      <td>cnBqPqBYZU</td>\n",
       "    </tr>\n",
       "    <tr>\n",
       "      <th>161112</th>\n",
       "      <td>2020-10-27 08:39:55 UTC</td>\n",
       "      <td>view</td>\n",
       "      <td>4078772</td>\n",
       "      <td>2144415933794353554</td>\n",
       "      <td>NaN</td>\n",
       "      <td>swat</td>\n",
       "      <td>91.60</td>\n",
       "      <td>1515915625531039646</td>\n",
       "      <td>hcyNit9Ryr</td>\n",
       "    </tr>\n",
       "    <tr>\n",
       "      <th>404680</th>\n",
       "      <td>2020-12-06 22:42:21 UTC</td>\n",
       "      <td>purchase</td>\n",
       "      <td>4078407</td>\n",
       "      <td>2144415926966026460</td>\n",
       "      <td>computers.components.cpu</td>\n",
       "      <td>amd</td>\n",
       "      <td>365.38</td>\n",
       "      <td>1515915625550039142</td>\n",
       "      <td>K4AXhN3qNL</td>\n",
       "    </tr>\n",
       "    <tr>\n",
       "      <th>808219</th>\n",
       "      <td>2021-02-15 11:13:08 UTC</td>\n",
       "      <td>view</td>\n",
       "      <td>1756531</td>\n",
       "      <td>2144415925196030129</td>\n",
       "      <td>electronics.telephone</td>\n",
       "      <td>digma</td>\n",
       "      <td>86.67</td>\n",
       "      <td>1515915625605629547</td>\n",
       "      <td>x3nF7eQZxj</td>\n",
       "    </tr>\n",
       "  </tbody>\n",
       "</table>\n",
       "</div>"
      ],
      "text/plain": [
       "                     event_time event_type  product_id          category_id  \\\n",
       "683838  2021-01-26 10:03:10 UTC       view     4085921  2144415921588928594   \n",
       "289517  2020-11-16 07:37:35 UTC       view      303809  2144415930816397635   \n",
       "161112  2020-10-27 08:39:55 UTC       view     4078772  2144415933794353554   \n",
       "404680  2020-12-06 22:42:21 UTC   purchase     4078407  2144415926966026460   \n",
       "808219  2021-02-15 11:13:08 UTC       view     1756531  2144415925196030129   \n",
       "\n",
       "                   category_code    brand   price              user_id  \\\n",
       "683838      auto.accessories.gps  navitel   75.29  1515915625597277123   \n",
       "289517                       NaN  kw-trio  121.10  1515915625539918957   \n",
       "161112                       NaN     swat   91.60  1515915625531039646   \n",
       "404680  computers.components.cpu      amd  365.38  1515915625550039142   \n",
       "808219     electronics.telephone    digma   86.67  1515915625605629547   \n",
       "\n",
       "       user_session  \n",
       "683838   UNHkdOS8vn  \n",
       "289517   cnBqPqBYZU  \n",
       "161112   hcyNit9Ryr  \n",
       "404680   K4AXhN3qNL  \n",
       "808219   x3nF7eQZxj  "
      ]
     },
     "execution_count": 5,
     "metadata": {},
     "output_type": "execute_result"
    }
   ],
   "source": [
    "utils.view_data(df)"
   ]
  },
  {
   "cell_type": "code",
   "execution_count": 6,
   "metadata": {},
   "outputs": [
    {
     "name": "stdout",
     "output_type": "stream",
     "text": [
      "<class 'pandas.core.frame.DataFrame'>\n",
      "RangeIndex: 885129 entries, 0 to 885128\n",
      "Data columns (total 9 columns):\n",
      " #   Column         Non-Null Count   Dtype  \n",
      "---  ------         --------------   -----  \n",
      " 0   event_time     885129 non-null  object \n",
      " 1   event_type     885129 non-null  object \n",
      " 2   product_id     885129 non-null  int64  \n",
      " 3   category_id    885129 non-null  int64  \n",
      " 4   category_code  648910 non-null  object \n",
      " 5   brand          672765 non-null  object \n",
      " 6   price          885129 non-null  float64\n",
      " 7   user_id        885129 non-null  int64  \n",
      " 8   user_session   884964 non-null  object \n",
      "dtypes: float64(1), int64(3), object(5)\n",
      "memory usage: 60.8+ MB\n"
     ]
    },
    {
     "data": {
      "text/html": [
       "<div>\n",
       "<style scoped>\n",
       "    .dataframe tbody tr th:only-of-type {\n",
       "        vertical-align: middle;\n",
       "    }\n",
       "\n",
       "    .dataframe tbody tr th {\n",
       "        vertical-align: top;\n",
       "    }\n",
       "\n",
       "    .dataframe thead th {\n",
       "        text-align: right;\n",
       "    }\n",
       "</style>\n",
       "<table border=\"1\" class=\"dataframe\">\n",
       "  <thead>\n",
       "    <tr style=\"text-align: right;\">\n",
       "      <th></th>\n",
       "      <th>event_time</th>\n",
       "      <th>event_type</th>\n",
       "      <th>product_id</th>\n",
       "      <th>category_id</th>\n",
       "      <th>category_code</th>\n",
       "      <th>brand</th>\n",
       "      <th>price</th>\n",
       "      <th>user_id</th>\n",
       "      <th>user_session</th>\n",
       "    </tr>\n",
       "  </thead>\n",
       "  <tbody>\n",
       "    <tr>\n",
       "      <th>0</th>\n",
       "      <td>2020-09-24 11:57:06 UTC</td>\n",
       "      <td>view</td>\n",
       "      <td>1996170</td>\n",
       "      <td>2144415922528452715</td>\n",
       "      <td>electronics.telephone</td>\n",
       "      <td>NaN</td>\n",
       "      <td>31.90</td>\n",
       "      <td>1515915625519388267</td>\n",
       "      <td>LJuJVLEjPT</td>\n",
       "    </tr>\n",
       "    <tr>\n",
       "      <th>1</th>\n",
       "      <td>2020-09-24 11:57:26 UTC</td>\n",
       "      <td>view</td>\n",
       "      <td>139905</td>\n",
       "      <td>2144415926932472027</td>\n",
       "      <td>computers.components.cooler</td>\n",
       "      <td>zalman</td>\n",
       "      <td>17.16</td>\n",
       "      <td>1515915625519380411</td>\n",
       "      <td>tdicluNnRY</td>\n",
       "    </tr>\n",
       "    <tr>\n",
       "      <th>2</th>\n",
       "      <td>2020-09-24 11:57:27 UTC</td>\n",
       "      <td>view</td>\n",
       "      <td>215454</td>\n",
       "      <td>2144415927158964449</td>\n",
       "      <td>NaN</td>\n",
       "      <td>NaN</td>\n",
       "      <td>9.81</td>\n",
       "      <td>1515915625513238515</td>\n",
       "      <td>4TMArHtXQy</td>\n",
       "    </tr>\n",
       "    <tr>\n",
       "      <th>3</th>\n",
       "      <td>2020-09-24 11:57:33 UTC</td>\n",
       "      <td>view</td>\n",
       "      <td>635807</td>\n",
       "      <td>2144415923107266682</td>\n",
       "      <td>computers.peripherals.printer</td>\n",
       "      <td>pantum</td>\n",
       "      <td>113.81</td>\n",
       "      <td>1515915625519014356</td>\n",
       "      <td>aGFYrNgC08</td>\n",
       "    </tr>\n",
       "    <tr>\n",
       "      <th>4</th>\n",
       "      <td>2020-09-24 11:57:36 UTC</td>\n",
       "      <td>view</td>\n",
       "      <td>3658723</td>\n",
       "      <td>2144415921169498184</td>\n",
       "      <td>NaN</td>\n",
       "      <td>cameronsino</td>\n",
       "      <td>15.87</td>\n",
       "      <td>1515915625510743344</td>\n",
       "      <td>aa4mmk0kwQ</td>\n",
       "    </tr>\n",
       "  </tbody>\n",
       "</table>\n",
       "</div>"
      ],
      "text/plain": [
       "                event_time event_type  product_id          category_id  \\\n",
       "0  2020-09-24 11:57:06 UTC       view     1996170  2144415922528452715   \n",
       "1  2020-09-24 11:57:26 UTC       view      139905  2144415926932472027   \n",
       "2  2020-09-24 11:57:27 UTC       view      215454  2144415927158964449   \n",
       "3  2020-09-24 11:57:33 UTC       view      635807  2144415923107266682   \n",
       "4  2020-09-24 11:57:36 UTC       view     3658723  2144415921169498184   \n",
       "\n",
       "                   category_code        brand   price              user_id  \\\n",
       "0          electronics.telephone          NaN   31.90  1515915625519388267   \n",
       "1    computers.components.cooler       zalman   17.16  1515915625519380411   \n",
       "2                            NaN          NaN    9.81  1515915625513238515   \n",
       "3  computers.peripherals.printer       pantum  113.81  1515915625519014356   \n",
       "4                            NaN  cameronsino   15.87  1515915625510743344   \n",
       "\n",
       "  user_session  \n",
       "0   LJuJVLEjPT  \n",
       "1   tdicluNnRY  \n",
       "2   4TMArHtXQy  \n",
       "3   aGFYrNgC08  \n",
       "4   aa4mmk0kwQ  "
      ]
     },
     "execution_count": 6,
     "metadata": {},
     "output_type": "execute_result"
    }
   ],
   "source": [
    "# EDVIN'S COMMENT\n",
    "# check out these built-in methods!\n",
    "# you can also see types and non-nan counts\n",
    "\n",
    "df.info()\n",
    "df.head()"
   ]
  },
  {
   "cell_type": "markdown",
   "metadata": {},
   "source": [
    "checking for duplications as well as empty or empty string rows"
   ]
  },
  {
   "cell_type": "code",
   "execution_count": 7,
   "metadata": {},
   "outputs": [
    {
     "name": "stdout",
     "output_type": "stream",
     "text": [
      "There are 655 duplicate rows, 448748 empty rows and 0 empty spaces\n",
      "Duplicate Rows:\n",
      "                     event_time event_type  product_id          category_id  \\\n",
      "511     2020-09-24 13:51:07 UTC       view      387956  2144415922427789416   \n",
      "512     2020-09-24 13:51:07 UTC       view      387956  2144415922427789416   \n",
      "974     2020-09-24 15:48:55 UTC       view      874667  2144415922738167921   \n",
      "975     2020-09-24 15:48:55 UTC       view      874667  2144415922738167921   \n",
      "4827    2020-09-25 13:15:09 UTC       view      453469  2144415924222951574   \n",
      "...                         ...        ...         ...                  ...   \n",
      "878751  2021-02-27 17:56:05 UTC       view     1571204  2144415924491387038   \n",
      "879544  2021-02-27 20:54:20 UTC       view     1027953  2144415923837075596   \n",
      "879545  2021-02-27 20:54:20 UTC       view     1027953  2144415923837075596   \n",
      "882715  2021-02-28 14:18:02 UTC       view     4078916  2144415922427789416   \n",
      "882716  2021-02-28 14:18:02 UTC       view     4078916  2144415922427789416   \n",
      "\n",
      "                           category_code     brand   price  \\\n",
      "511      computers.components.videocards      asus  104.21   \n",
      "512      computers.components.videocards      asus  104.21   \n",
      "974            computers.components.cdrw      asus   23.48   \n",
      "975            computers.components.cdrw      asus   23.48   \n",
      "4827         auto.accessories.parktronic       NaN   69.84   \n",
      "...                                  ...       ...     ...   \n",
      "878751  computers.components.motherboard      asus  146.40   \n",
      "879544        electronics.audio.acoustic       jbl  332.87   \n",
      "879545        electronics.audio.acoustic       jbl  332.87   \n",
      "882715   computers.components.videocards  sapphire  415.54   \n",
      "882716   computers.components.videocards  sapphire  415.54   \n",
      "\n",
      "                    user_id user_session  \n",
      "511     1515915625519429853   PZu2caZ5EN  \n",
      "512     1515915625519429853   PZu2caZ5EN  \n",
      "974     1515915625519457150   8wvs0vbHtv  \n",
      "975     1515915625519457150   8wvs0vbHtv  \n",
      "4827    1515915625519725870   9ofICyh8Eo  \n",
      "...                     ...          ...  \n",
      "878751  1515915625610505518   EUqy2lyCvY  \n",
      "879544  1515915625529755153   3mD3HIQ017  \n",
      "879545  1515915625529755153   3mD3HIQ017  \n",
      "882715  1515915625610828170   21hX1rWtum  \n",
      "882716  1515915625610828170   21hX1rWtum  \n",
      "\n",
      "[1284 rows x 9 columns]\n",
      "NaN Rows:\n",
      "26.69% of NaNs in the category_code column\n",
      "23.99% of NaNs in the brand column\n",
      "0.02% of NaNs in the user_session column\n"
     ]
    }
   ],
   "source": [
    "utils.check_data(df)"
   ]
  },
  {
   "cell_type": "code",
   "execution_count": 8,
   "metadata": {},
   "outputs": [
    {
     "data": {
      "text/plain": [
       "(515855, 9)"
      ]
     },
     "execution_count": 8,
     "metadata": {},
     "output_type": "execute_result"
    }
   ],
   "source": [
    "# Drop rows with NaN values\n",
    "df = df.dropna()\n",
    "\n",
    "# Drop duplicated rows\n",
    "df = df.drop_duplicates()\n",
    "\n",
    "# Display the updated dataframe shape\n",
    "df.shape"
   ]
  },
  {
   "cell_type": "markdown",
   "metadata": {},
   "source": [
    "making sure the dataset is clean"
   ]
  },
  {
   "cell_type": "code",
   "execution_count": 9,
   "metadata": {},
   "outputs": [
    {
     "name": "stdout",
     "output_type": "stream",
     "text": [
      "There are 0 duplicate rows, 0 empty rows and 0 empty spaces\n"
     ]
    }
   ],
   "source": [
    "utils.check_data(df)"
   ]
  },
  {
   "cell_type": "markdown",
   "metadata": {},
   "source": [
    "EDVIN'S COMMENT\n",
    "\n",
    "some questions I would ask here:\n",
    "- why do we have duplicates in the data?\n",
    "  - do they mean anything?\n",
    "  - is it safe to drop duplicates?\n",
    "  - if the data has some unique `ID` then most likely it is safe to drop data if that `ID` repeats\n",
    "  - however, I'm not so sure in this case - it is possible that on occasion some user will generate an event for the same product at the same time (seconds match)\n",
    "- similarly, for `nan` values, you can see that that 3 columns have `nans`\n",
    "  - of them, 2 columns have quite some, so if you were to drop them entirely, you would loose a lot of data, is that data important?\n",
    "  - for example (not the case in with this data), it could be possible that `price` column is only filled for purchase events and missing for all other events, so if you dropped all data with `nans` then you would be left with only purchase events\n",
    "  - tiny fraction of `user_session` is also missing data, that's likely an error, still best inspect it!\n",
    "\n",
    "Generally, I would only drop data if I have a very good reason to. If not, I would just continue the analysis as usual and treat the missing data as a category of it's own (or in the case of duplicates, if you have no reason to suspect data errors then treat it as normal data)."
   ]
  },
  {
   "cell_type": "markdown",
   "metadata": {},
   "source": [
    "# EDA"
   ]
  },
  {
   "cell_type": "code",
   "execution_count": 10,
   "metadata": {},
   "outputs": [],
   "source": [
    "target = df.pop('event_type')\n",
    "df['event_type'] = target"
   ]
  },
  {
   "cell_type": "code",
   "execution_count": 11,
   "metadata": {},
   "outputs": [
    {
     "data": {
      "text/html": [
       "<div>\n",
       "<style scoped>\n",
       "    .dataframe tbody tr th:only-of-type {\n",
       "        vertical-align: middle;\n",
       "    }\n",
       "\n",
       "    .dataframe tbody tr th {\n",
       "        vertical-align: top;\n",
       "    }\n",
       "\n",
       "    .dataframe thead th {\n",
       "        text-align: right;\n",
       "    }\n",
       "</style>\n",
       "<table border=\"1\" class=\"dataframe\">\n",
       "  <thead>\n",
       "    <tr style=\"text-align: right;\">\n",
       "      <th></th>\n",
       "      <th>event_time</th>\n",
       "      <th>product_id</th>\n",
       "      <th>category_id</th>\n",
       "      <th>category_code</th>\n",
       "      <th>brand</th>\n",
       "      <th>price</th>\n",
       "      <th>user_id</th>\n",
       "      <th>user_session</th>\n",
       "      <th>event_type</th>\n",
       "      <th>purchase_count</th>\n",
       "    </tr>\n",
       "  </thead>\n",
       "  <tbody>\n",
       "    <tr>\n",
       "      <th>0</th>\n",
       "      <td>2020-09-24 11:57:26 UTC</td>\n",
       "      <td>139905</td>\n",
       "      <td>2144415926932472027</td>\n",
       "      <td>computers.components.cooler</td>\n",
       "      <td>zalman</td>\n",
       "      <td>17.16</td>\n",
       "      <td>1515915625519380411</td>\n",
       "      <td>tdicluNnRY</td>\n",
       "      <td>view</td>\n",
       "      <td>0.0</td>\n",
       "    </tr>\n",
       "    <tr>\n",
       "      <th>1</th>\n",
       "      <td>2020-09-24 11:57:33 UTC</td>\n",
       "      <td>635807</td>\n",
       "      <td>2144415923107266682</td>\n",
       "      <td>computers.peripherals.printer</td>\n",
       "      <td>pantum</td>\n",
       "      <td>113.81</td>\n",
       "      <td>1515915625519014356</td>\n",
       "      <td>aGFYrNgC08</td>\n",
       "      <td>view</td>\n",
       "      <td>0.0</td>\n",
       "    </tr>\n",
       "    <tr>\n",
       "      <th>2</th>\n",
       "      <td>2020-09-24 11:57:59 UTC</td>\n",
       "      <td>664325</td>\n",
       "      <td>2144415951611757447</td>\n",
       "      <td>construction.tools.saw</td>\n",
       "      <td>carver</td>\n",
       "      <td>52.33</td>\n",
       "      <td>1515915625519388062</td>\n",
       "      <td>vnkdP81DDW</td>\n",
       "      <td>view</td>\n",
       "      <td>0.0</td>\n",
       "    </tr>\n",
       "    <tr>\n",
       "      <th>3</th>\n",
       "      <td>2020-09-24 11:58:24 UTC</td>\n",
       "      <td>716611</td>\n",
       "      <td>2144415923694469257</td>\n",
       "      <td>computers.network.router</td>\n",
       "      <td>d-link</td>\n",
       "      <td>53.14</td>\n",
       "      <td>1515915625519388882</td>\n",
       "      <td>kVBeYDPcBw</td>\n",
       "      <td>view</td>\n",
       "      <td>0.0</td>\n",
       "    </tr>\n",
       "    <tr>\n",
       "      <th>4</th>\n",
       "      <td>2020-09-24 11:58:31 UTC</td>\n",
       "      <td>716611</td>\n",
       "      <td>2144415923694469257</td>\n",
       "      <td>computers.network.router</td>\n",
       "      <td>d-link</td>\n",
       "      <td>53.14</td>\n",
       "      <td>1515915625519388929</td>\n",
       "      <td>F3VB9LYp39</td>\n",
       "      <td>view</td>\n",
       "      <td>0.0</td>\n",
       "    </tr>\n",
       "  </tbody>\n",
       "</table>\n",
       "</div>"
      ],
      "text/plain": [
       "                event_time  product_id          category_id  \\\n",
       "0  2020-09-24 11:57:26 UTC      139905  2144415926932472027   \n",
       "1  2020-09-24 11:57:33 UTC      635807  2144415923107266682   \n",
       "2  2020-09-24 11:57:59 UTC      664325  2144415951611757447   \n",
       "3  2020-09-24 11:58:24 UTC      716611  2144415923694469257   \n",
       "4  2020-09-24 11:58:31 UTC      716611  2144415923694469257   \n",
       "\n",
       "                   category_code   brand   price              user_id  \\\n",
       "0    computers.components.cooler  zalman   17.16  1515915625519380411   \n",
       "1  computers.peripherals.printer  pantum  113.81  1515915625519014356   \n",
       "2         construction.tools.saw  carver   52.33  1515915625519388062   \n",
       "3       computers.network.router  d-link   53.14  1515915625519388882   \n",
       "4       computers.network.router  d-link   53.14  1515915625519388929   \n",
       "\n",
       "  user_session event_type  purchase_count  \n",
       "0   tdicluNnRY       view             0.0  \n",
       "1   aGFYrNgC08       view             0.0  \n",
       "2   vnkdP81DDW       view             0.0  \n",
       "3   kVBeYDPcBw       view             0.0  \n",
       "4   F3VB9LYp39       view             0.0  "
      ]
     },
     "execution_count": 11,
     "metadata": {},
     "output_type": "execute_result"
    }
   ],
   "source": [
    "# EDVIN'S COMMENT\n",
    "# I believe the code above doesn't do much - you first remove the column then put it back.\n",
    "# More generally, is it the `event_type` you care about here? or perhaps you are rather interested whether views turn into purchases?\n",
    "# See the code below how to construct such a dataframe, there you could set the count as the target\n",
    "# alternatively, you could just convert the count value to binary 0/1 to just predict if a purchase happen (not how many were bought)\n",
    "# you can have even more complex formulations of the problem, for example not limitting the view-to-purchase funnel to individual sessions\n",
    "# instead you could perhaps combine sessions if they were close to one another in time or perhaps drop sessions entirely and look at dates or users\n",
    "# no right approach, depends on what you want to model\n",
    "\n",
    "views_df = df[df['event_type'] == 'view']\n",
    "\n",
    "purchases_df = df[df['event_type'] == 'purchase']\n",
    "purchases_df = purchases_df.groupby(['user_session', 'product_id']).size().reset_index(name='purchase_count')\n",
    "\n",
    "views_with_purchases_df = views_df.merge(purchases_df, on=['user_session', 'product_id'], how='left')\n",
    "views_with_purchases_df['purchase_count'] = views_with_purchases_df['purchase_count'].fillna(0)\n",
    "views_with_purchases_df.head()"
   ]
  },
  {
   "cell_type": "code",
   "execution_count": 12,
   "metadata": {},
   "outputs": [
    {
     "data": {
      "text/plain": [
       "event_time        object\n",
       "product_id         int64\n",
       "category_id        int64\n",
       "category_code     object\n",
       "brand             object\n",
       "price            float64\n",
       "user_id            int64\n",
       "user_session      object\n",
       "event_type        object\n",
       "dtype: object"
      ]
     },
     "execution_count": 12,
     "metadata": {},
     "output_type": "execute_result"
    }
   ],
   "source": [
    "df.dtypes"
   ]
  },
  {
   "cell_type": "markdown",
   "metadata": {},
   "source": [
    "From looking at the datatypes, we should convert the event_time into a datatime format"
   ]
  },
  {
   "cell_type": "code",
   "execution_count": 13,
   "metadata": {},
   "outputs": [],
   "source": [
    "df['event_time'] = pd.to_datetime(df['event_time'])"
   ]
  },
  {
   "cell_type": "markdown",
   "metadata": {},
   "source": [
    "Furthermore, we are checking how many unique entries we have per row"
   ]
  },
  {
   "cell_type": "code",
   "execution_count": 14,
   "metadata": {},
   "outputs": [
    {
     "data": {
      "text/plain": [
       "event_time       501143\n",
       "product_id        24255\n",
       "category_id         260\n",
       "category_code       104\n",
       "brand               728\n",
       "price              9478\n",
       "user_id          224971\n",
       "user_session     273421\n",
       "event_type            3\n",
       "dtype: int64"
      ]
     },
     "execution_count": 14,
     "metadata": {},
     "output_type": "execute_result"
    }
   ],
   "source": [
    "df.nunique()"
   ]
  },
  {
   "cell_type": "markdown",
   "metadata": {},
   "source": [
    "The numer of rows per event_type:"
   ]
  },
  {
   "cell_type": "code",
   "execution_count": 15,
   "metadata": {},
   "outputs": [
    {
     "data": {
      "text/plain": [
       "view        458082\n",
       "cart         34668\n",
       "purchase     23105\n",
       "Name: event_type, dtype: int64"
      ]
     },
     "execution_count": 15,
     "metadata": {},
     "output_type": "execute_result"
    }
   ],
   "source": [
    "df.event_type.value_counts()"
   ]
  },
  {
   "cell_type": "markdown",
   "metadata": {},
   "source": [
    "Event Type will be our target column. What we see here is a huge class imbalance. We will need to take care of that before starting the models."
   ]
  },
  {
   "cell_type": "markdown",
   "metadata": {},
   "source": [
    "EDVIN'S COMMENT\n",
    "\n",
    "Class imbalance is annoying. But it's not something we neccesarily need to fix. Simply put there aren't any really good ways to fix the problem. The data is just that - very imbalanced but true.\n",
    "\n",
    "One of popular approaches that people do is to drop some examples from the majority class to even out the balance. The problem here is that if you train a model on this new data, your predictions will be miscalibrated (sounds familiar? that's exactly the problem with ERP). One of the primary reasons we drop some of the majority class data at Remerge is because there is just sooooo much data that models would take quite a long time to train, so instead of downsampling the data everywhere, we keep the minority class (conversions) but downsample only the negative class (impressions that did not turn into conversions). This cuts down on the training data but introduces calibration problems that we need to fix later on.\n",
    "\n",
    "Generally speaking, I would be careful with fixing class imbalance. This is certainly something you could look into and this mayyyy even improve the models performance slightly, but this is certainly not something that you should do by default."
   ]
  },
  {
   "cell_type": "markdown",
   "metadata": {},
   "source": [
    "The number of unique users per event_type"
   ]
  },
  {
   "cell_type": "code",
   "execution_count": 16,
   "metadata": {},
   "outputs": [
    {
     "data": {
      "text/plain": [
       "event_type\n",
       "cart         23158\n",
       "purchase     13041\n",
       "view        224741\n",
       "Name: user_id, dtype: int64"
      ]
     },
     "execution_count": 16,
     "metadata": {},
     "output_type": "execute_result"
    }
   ],
   "source": [
    "df.groupby('event_type')['user_id'].nunique()"
   ]
  },
  {
   "cell_type": "markdown",
   "metadata": {},
   "source": [
    "Creating a dataframe of only purchasers"
   ]
  },
  {
   "cell_type": "code",
   "execution_count": 17,
   "metadata": {},
   "outputs": [
    {
     "data": {
      "text/html": [
       "<div>\n",
       "<style scoped>\n",
       "    .dataframe tbody tr th:only-of-type {\n",
       "        vertical-align: middle;\n",
       "    }\n",
       "\n",
       "    .dataframe tbody tr th {\n",
       "        vertical-align: top;\n",
       "    }\n",
       "\n",
       "    .dataframe thead th {\n",
       "        text-align: right;\n",
       "    }\n",
       "</style>\n",
       "<table border=\"1\" class=\"dataframe\">\n",
       "  <thead>\n",
       "    <tr style=\"text-align: right;\">\n",
       "      <th></th>\n",
       "      <th>event_time</th>\n",
       "      <th>product_id</th>\n",
       "      <th>category_id</th>\n",
       "      <th>category_code</th>\n",
       "      <th>brand</th>\n",
       "      <th>price</th>\n",
       "      <th>user_id</th>\n",
       "      <th>user_session</th>\n",
       "      <th>event_type</th>\n",
       "    </tr>\n",
       "  </thead>\n",
       "  <tbody>\n",
       "    <tr>\n",
       "      <th>34</th>\n",
       "      <td>2020-09-24 12:02:34+00:00</td>\n",
       "      <td>1507291</td>\n",
       "      <td>2144415926806642904</td>\n",
       "      <td>computers.components.power_supply</td>\n",
       "      <td>supermicro</td>\n",
       "      <td>217.57</td>\n",
       "      <td>1515915625519390468</td>\n",
       "      <td>UzabYgCPva</td>\n",
       "      <td>view</td>\n",
       "    </tr>\n",
       "    <tr>\n",
       "      <th>37</th>\n",
       "      <td>2020-09-24 12:02:53+00:00</td>\n",
       "      <td>1507291</td>\n",
       "      <td>2144415926806642904</td>\n",
       "      <td>computers.components.power_supply</td>\n",
       "      <td>supermicro</td>\n",
       "      <td>217.57</td>\n",
       "      <td>1515915625519390468</td>\n",
       "      <td>UzabYgCPva</td>\n",
       "      <td>cart</td>\n",
       "    </tr>\n",
       "    <tr>\n",
       "      <th>42</th>\n",
       "      <td>2020-09-24 12:03:17+00:00</td>\n",
       "      <td>1507291</td>\n",
       "      <td>2144415926806642904</td>\n",
       "      <td>computers.components.power_supply</td>\n",
       "      <td>supermicro</td>\n",
       "      <td>217.57</td>\n",
       "      <td>1515915625519390468</td>\n",
       "      <td>xn6SHCnZtk</td>\n",
       "      <td>view</td>\n",
       "    </tr>\n",
       "    <tr>\n",
       "      <th>45</th>\n",
       "      <td>2020-09-24 12:04:10+00:00</td>\n",
       "      <td>1507291</td>\n",
       "      <td>2144415926806642904</td>\n",
       "      <td>computers.components.power_supply</td>\n",
       "      <td>supermicro</td>\n",
       "      <td>217.57</td>\n",
       "      <td>1515915625519390468</td>\n",
       "      <td>xn6SHCnZtk</td>\n",
       "      <td>purchase</td>\n",
       "    </tr>\n",
       "    <tr>\n",
       "      <th>70</th>\n",
       "      <td>2020-09-24 12:12:06+00:00</td>\n",
       "      <td>822426</td>\n",
       "      <td>2144415922360680550</td>\n",
       "      <td>computers.peripherals.camera</td>\n",
       "      <td>logitech</td>\n",
       "      <td>123.35</td>\n",
       "      <td>1515915625513574486</td>\n",
       "      <td>2gngxS29Ts</td>\n",
       "      <td>view</td>\n",
       "    </tr>\n",
       "  </tbody>\n",
       "</table>\n",
       "</div>"
      ],
      "text/plain": [
       "                  event_time  product_id          category_id  \\\n",
       "34 2020-09-24 12:02:34+00:00     1507291  2144415926806642904   \n",
       "37 2020-09-24 12:02:53+00:00     1507291  2144415926806642904   \n",
       "42 2020-09-24 12:03:17+00:00     1507291  2144415926806642904   \n",
       "45 2020-09-24 12:04:10+00:00     1507291  2144415926806642904   \n",
       "70 2020-09-24 12:12:06+00:00      822426  2144415922360680550   \n",
       "\n",
       "                        category_code       brand   price  \\\n",
       "34  computers.components.power_supply  supermicro  217.57   \n",
       "37  computers.components.power_supply  supermicro  217.57   \n",
       "42  computers.components.power_supply  supermicro  217.57   \n",
       "45  computers.components.power_supply  supermicro  217.57   \n",
       "70       computers.peripherals.camera    logitech  123.35   \n",
       "\n",
       "                user_id user_session event_type  \n",
       "34  1515915625519390468   UzabYgCPva       view  \n",
       "37  1515915625519390468   UzabYgCPva       cart  \n",
       "42  1515915625519390468   xn6SHCnZtk       view  \n",
       "45  1515915625519390468   xn6SHCnZtk   purchase  \n",
       "70  1515915625513574486   2gngxS29Ts       view  "
      ]
     },
     "execution_count": 17,
     "metadata": {},
     "output_type": "execute_result"
    }
   ],
   "source": [
    "purchasers = df[df['event_type'] == 'purchase'][['user_id']].drop_duplicates()\n",
    "purchasers_all_events = df[df['user_id'].isin(purchasers['user_id'])]\n",
    "purchasers_all_events.head()"
   ]
  },
  {
   "cell_type": "markdown",
   "metadata": {},
   "source": [
    "EDVIN'S COMMENT\n",
    "\n",
    "Nice! You could formulate your problem where you are trying to predict whether a user is a purchaser!"
   ]
  },
  {
   "cell_type": "markdown",
   "metadata": {},
   "source": [
    "The average number of events per user per event_type"
   ]
  },
  {
   "cell_type": "code",
   "execution_count": 18,
   "metadata": {},
   "outputs": [
    {
     "data": {
      "text/plain": [
       "event_type\n",
       "cart        1.497020\n",
       "purchase    1.771720\n",
       "view        2.038266\n",
       "dtype: float64"
      ]
     },
     "execution_count": 18,
     "metadata": {},
     "output_type": "execute_result"
    }
   ],
   "source": [
    "mean_event_type_per_user = df.groupby(['user_id', 'event_type']).size().groupby('event_type').mean()\n",
    "mean_event_type_per_user"
   ]
  },
  {
   "cell_type": "code",
   "execution_count": 19,
   "metadata": {
    "jp-MarkdownHeadingCollapsed": true
   },
   "outputs": [
    {
     "data": {
      "text/plain": [
       "0.10270212605180223"
      ]
     },
     "execution_count": 19,
     "metadata": {},
     "output_type": "execute_result"
    }
   ],
   "source": [
    "# EDVIN'S COMMENT\n",
    "# Interesting! How come on average there are more `purchase` than `cart` events?\n",
    "# Your code is correct but it might not be doing what you expect it to\n",
    "# It is counting average events for those users that produced those events\n",
    "# In other words if a user didn't purchase, it is not included in the average you calculated above\n",
    "\n",
    "n_unique_users = df['user_id'].nunique()\n",
    "n_all_purchase_events = df[df['event_type'] == 'purchase'].shape[0]\n",
    "n_all_purchase_events / n_unique_users"
   ]
  },
  {
   "cell_type": "markdown",
   "metadata": {},
   "source": [
    "The earliest and latest time of the dataset"
   ]
  },
  {
   "cell_type": "code",
   "execution_count": 20,
   "metadata": {},
   "outputs": [
    {
     "data": {
      "text/plain": [
       "(Timestamp('2020-09-24 11:57:26+0000', tz='UTC'),\n",
       " Timestamp('2021-02-28 23:59:09+0000', tz='UTC'))"
      ]
     },
     "execution_count": 20,
     "metadata": {},
     "output_type": "execute_result"
    }
   ],
   "source": [
    "df.event_time.min(), df.event_time.max()"
   ]
  },
  {
   "cell_type": "code",
   "execution_count": 21,
   "metadata": {},
   "outputs": [
    {
     "name": "stderr",
     "output_type": "stream",
     "text": [
      "/var/folders/4r/_q13gkk57sd4qkjtdnjjcdwm0000gp/T/ipykernel_30463/4068471165.py:2: UserWarning: Converting to PeriodArray/Index representation will drop timezone information.\n",
      "  df['month'] = df['event_time'].dt.to_period('M')\n"
     ]
    },
    {
     "data": {
      "text/plain": [
       "month\n",
       "2020-09     15387\n",
       "2020-10     88849\n",
       "2020-11    106635\n",
       "2020-12     88490\n",
       "2021-01    115234\n",
       "2021-02    101260\n",
       "Freq: M, dtype: int64"
      ]
     },
     "execution_count": 21,
     "metadata": {},
     "output_type": "execute_result"
    }
   ],
   "source": [
    "df['event_time'] = pd.to_datetime(df['event_time'])  \n",
    "df['month'] = df['event_time'].dt.to_period('M')  \n",
    "\n",
    "columns_per_month = df.groupby('month').size()\n",
    "columns_per_month"
   ]
  },
  {
   "cell_type": "code",
   "execution_count": 22,
   "metadata": {},
   "outputs": [
    {
     "data": {
      "text/plain": [
       "month    event_type\n",
       "2020-09  cart             834\n",
       "         purchase         588\n",
       "         view           13965\n",
       "2020-10  cart            5123\n",
       "         purchase        3659\n",
       "         view           80067\n",
       "2020-11  cart            6459\n",
       "         purchase        4544\n",
       "         view           95632\n",
       "2020-12  cart            5873\n",
       "         purchase        3961\n",
       "         view           78656\n",
       "2021-01  cart            8652\n",
       "         purchase        5415\n",
       "         view          101167\n",
       "2021-02  cart            7727\n",
       "         purchase        4938\n",
       "         view           88595\n",
       "dtype: int64"
      ]
     },
     "execution_count": 22,
     "metadata": {},
     "output_type": "execute_result"
    }
   ],
   "source": [
    "df.groupby(['month', 'event_type']).size()"
   ]
  },
  {
   "cell_type": "code",
   "execution_count": null,
   "metadata": {},
   "outputs": [],
   "source": []
  },
  {
   "cell_type": "code",
   "execution_count": null,
   "metadata": {},
   "outputs": [],
   "source": []
  }
 ],
 "metadata": {
  "kernelspec": {
   "display_name": "ua-ds-poetry",
   "language": "python",
   "name": "ua-ds-poetry"
  },
  "language_info": {
   "codemirror_mode": {
    "name": "ipython",
    "version": 3
   },
   "file_extension": ".py",
   "mimetype": "text/x-python",
   "name": "python",
   "nbconvert_exporter": "python",
   "pygments_lexer": "ipython3",
   "version": "3.11.11"
  }
 },
 "nbformat": 4,
 "nbformat_minor": 4
}
